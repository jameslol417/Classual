{
 "cells": [
  {
   "cell_type": "code",
   "execution_count": 1,
   "metadata": {},
   "outputs": [
    {
     "name": "stdout",
     "output_type": "stream",
     "text": [
      "Grouped courses saved to grouped_courses.json\n"
     ]
    }
   ],
   "source": [
    "import os\n",
    "import re\n",
    "import json\n",
    "from collections import defaultdict\n",
    "\n",
    "# Directory containing the JSON files\n",
    "directory = 'courses'\n",
    "\n",
    "# Regular expression pattern to match files with the format COURSE_NUM.json\n",
    "pattern = re.compile(r'([A-Z]+)_(\\d+.*)\\.json')\n",
    "\n",
    "# Dictionary to store grouped courses\n",
    "grouped_courses = defaultdict(list)\n",
    "\n",
    "# List all files in the directory\n",
    "for filename in os.listdir(directory):\n",
    "    match = pattern.match(filename)\n",
    "    if match:\n",
    "        course = match.group(1)\n",
    "        num = match.group(2)\n",
    "        full_course = f\"{course} {num}\"\n",
    "        grouped_courses[course].append(full_course)\n",
    "\n",
    "# Convert defaultdict to regular dict for JSON serialization\n",
    "grouped_courses = dict(grouped_courses)\n",
    "\n",
    "# Output JSON file path\n",
    "json_file_path = 'grouped_courses.json'\n",
    "\n",
    "# Write grouped courses to a JSON file\n",
    "with open(json_file_path, 'w') as json_file:\n",
    "    json.dump(grouped_courses, json_file, indent=4)\n",
    "\n",
    "print(f\"Grouped courses saved to {json_file_path}\")\n"
   ]
  },
  {
   "cell_type": "code",
   "execution_count": null,
   "metadata": {},
   "outputs": [],
   "source": []
  }
 ],
 "metadata": {
  "kernelspec": {
   "display_name": "Python 3",
   "language": "python",
   "name": "python3"
  },
  "language_info": {
   "codemirror_mode": {
    "name": "ipython",
    "version": 3
   },
   "file_extension": ".py",
   "mimetype": "text/x-python",
   "name": "python",
   "nbconvert_exporter": "python",
   "pygments_lexer": "ipython3",
   "version": "3.11.2"
  }
 },
 "nbformat": 4,
 "nbformat_minor": 2
}
